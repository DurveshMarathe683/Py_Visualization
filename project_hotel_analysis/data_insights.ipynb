{
 "cells": [
  {
   "cell_type": "markdown",
   "id": "00d7196a-03cc-4c71-bec7-b23afdb2ae37",
   "metadata": {
    "jp-MarkdownHeadingCollapsed": true
   },
   "source": [
    "# Importing Modules"
   ]
  },
  {
   "cell_type": "code",
   "execution_count": 6,
   "id": "b775dab2-bdd0-4377-b3aa-1d5f6b0f9ff5",
   "metadata": {},
   "outputs": [],
   "source": [
    "import pandas as pd"
   ]
  },
  {
   "cell_type": "markdown",
   "id": "ec439af6-3780-40e7-a330-9552b3ea2f60",
   "metadata": {
    "jp-MarkdownHeadingCollapsed": true
   },
   "source": [
    "# Creating dataframe"
   ]
  },
  {
   "cell_type": "code",
   "execution_count": 7,
   "id": "dcacda1b-ae99-45bb-8901-f1df3581fe38",
   "metadata": {},
   "outputs": [],
   "source": [
    "df_bookings = pd.read_csv('datasets/fact_bookings.csv')\n",
    "df_date = pd.read_csv('datasets/dim_date.csv')\n",
    "df_hotels = pd.read_csv('datasets/dim_hotels.csv')\n",
    "df_rooms = pd.read_csv('datasets/dim_rooms.csv')\n",
    "df_agg_bookings = pd.read_csv('datasets/fact_aggregated_bookings.csv')"
   ]
  },
  {
   "cell_type": "markdown",
   "id": "9282ad8f-c70f-42fa-b6f7-5cb7b2995e1a",
   "metadata": {
    "jp-MarkdownHeadingCollapsed": true
   },
   "source": [
    "# Data exploration"
   ]
  },
  {
   "cell_type": "code",
   "execution_count": 71,
   "id": "88dd3fec-2e18-4ceb-8696-933b609eb2ff",
   "metadata": {
    "scrolled": true
   },
   "outputs": [
    {
     "data": {
      "text/plain": [
       "<Axes: ylabel='booking_platform'>"
      ]
     },
     "execution_count": 71,
     "metadata": {},
     "output_type": "execute_result"
    },
    {
     "data": {
      "image/png": "[encoded data removed]",
      "text/plain": [
       "<Figure size 640x480 with 1 Axes>"
      ]
     },
     "metadata": {},
     "output_type": "display_data"
    }
   ],
   "source": [
    "df_bookings['booking_platform'].value_counts().plot(kind='barh')"
   ]
  },
  {
   "cell_type": "markdown",
   "id": "292a43d0-c69f-450f-a67e-866df0b17efd",
   "metadata": {},
   "source": [
    "    Excerise 1: Find out the unique property ids aggregate bookings dataset"
   ]
  },
  {
   "cell_type": "code",
   "execution_count": 62,
   "id": "43c457e4-4e0c-4303-838c-dae8033851c3",
   "metadata": {},
   "outputs": [
    {
     "data": {
      "text/plain": [
       "array([16559, 19562, 19563, 17558, 16558, 17560, 19558, 19560, 17561,\n",
       "       16560, 16561, 16562, 16563, 17559, 17562, 17563, 18558, 18559,\n",
       "       18561, 18562, 18563, 19559, 19561, 17564, 18560], dtype=int64)"
      ]
     },
     "execution_count": 62,
     "metadata": {},
     "output_type": "execute_result"
    }
   ],
   "source": [
    "df_agg_bookings['property_id'].unique()"
   ]
  },
  {
   "cell_type": "markdown",
   "id": "1a67d949-b61e-4925-bd55-1b646a1440b6",
   "metadata": {},
   "source": [
    "    Exercise 2: Find out total booking per property_id "
   ]
  },
  {
   "cell_type": "code",
   "execution_count": 63,
   "id": "e35ec959-d97e-4e68-b47f-631db1b67aac",
   "metadata": {},
   "outputs": [
    {
     "data": {
      "text/plain": [
       "property_id\n",
       "16558    3153\n",
       "16559    7338\n",
       "16560    4693\n",
       "16561    4418\n",
       "16562    4820\n",
       "16563    7211\n",
       "17558    5053\n",
       "17559    6142\n",
       "17560    6013\n",
       "17561    5183\n",
       "17562    3424\n",
       "17563    6337\n",
       "17564    3982\n",
       "18558    4475\n",
       "18559    5256\n",
       "18560    6638\n",
       "18561    6458\n",
       "18562    7333\n",
       "18563    4737\n",
       "19558    4400\n",
       "19559    4729\n",
       "19560    6079\n",
       "19561    5736\n",
       "19562    5812\n",
       "19563    5413\n",
       "Name: successful_bookings, dtype: int64"
      ]
     },
     "execution_count": 63,
     "metadata": {},
     "output_type": "execute_result"
    }
   ],
   "source": [
    "df_agg_bookings.groupby('property_id')['successful_bookings'].sum()"
   ]
  },
  {
   "cell_type": "markdown",
   "id": "84a2f7e1-3dcb-4627-97a3-440c395856bf",
   "metadata": {
    "scrolled": true
   },
   "source": [
    "    Exercise 3: Find out days on which bookings are greater than capacity"
   ]
  },
  {
   "cell_type": "code",
   "execution_count": 64,
   "id": "25bc6c29-d985-4357-a882-91562270b23a",
   "metadata": {},
   "outputs": [
    {
     "data": {
      "text/plain": [
       "3        1-May-22\n",
       "12       1-May-22\n",
       "4136    11-Jun-22\n",
       "6209     2-Jul-22\n",
       "8522    25-Jul-22\n",
       "9194    31-Jul-22\n",
       "Name: check_in_date, dtype: object"
      ]
     },
     "execution_count": 64,
     "metadata": {},
     "output_type": "execute_result"
    }
   ],
   "source": [
    "df_agg_bookings[df_agg_bookings.successful_bookings > df_agg_bookings.capacity].check_in_date"
   ]
  },
  {
   "cell_type": "markdown",
   "id": "6764adbb-7902-49f4-97f3-aa1228e996bb",
   "metadata": {},
   "source": [
    "    Exercise 4: Find out properties that have highest capacity"
   ]
  },
  {
   "cell_type": "code",
   "execution_count": 65,
   "id": "2dd82b5d-ded3-4db2-a53c-1fd8e950ab41",
   "metadata": {},
   "outputs": [
    {
     "data": {
      "text/plain": [
       "array([17558], dtype=int64)"
      ]
     },
     "execution_count": 65,
     "metadata": {},
     "output_type": "execute_result"
    }
   ],
   "source": [
    "df_agg_bookings[df_agg_bookings.capacity == df_agg_bookings.capacity.max()].property_id.unique()"
   ]
  },
  {
   "cell_type": "markdown",
   "id": "6dcf0289-c495-4caf-bc9c-bb285fcae58c",
   "metadata": {
    "jp-MarkdownHeadingCollapsed": true
   },
   "source": [
    "# Data cleaning"
   ]
  },
  {
   "cell_type": "code",
   "execution_count": 67,
   "id": "d35e9494-b78e-4089-b374-f31829895110",
   "metadata": {},
   "outputs": [
    {
     "data": {
      "text/html": [
       "<div>\n",
       "<style scoped>\n",
       "    .dataframe tbody tr th:only-of-type {\n",
       "        vertical-align: middle;\n",
       "    }\n",
       "\n",
       "    .dataframe tbody tr th {\n",
       "        vertical-align: top;\n",
       "    }\n",
       "\n",
       "    .dataframe thead th {\n",
       "        text-align: right;\n",
       "    }\n",
       "</style>\n",
       "<table border=\"1\" class=\"dataframe\">\n",
       "  <thead>\n",
       "    <tr style=\"text-align: right;\">\n",
       "      <th></th>\n",
       "      <th>booking_id</th>\n",
       "      <th>property_id</th>\n",
       "      <th>booking_date</th>\n",
       "      <th>check_in_date</th>\n",
       "      <th>checkout_date</th>\n",
       "      <th>no_guests</th>\n",
       "      <th>room_category</th>\n",
       "      <th>booking_platform</th>\n",
       "      <th>ratings_given</th>\n",
       "      <th>booking_status</th>\n",
       "      <th>revenue_generated</th>\n",
       "      <th>revenue_realized</th>\n",
       "    </tr>\n",
       "  </thead>\n",
       "  <tbody>\n",
       "    <tr>\n",
       "      <th>0</th>\n",
       "      <td>May012216558RT11</td>\n",
       "      <td>16558</td>\n",
       "      <td>27-04-22</td>\n",
       "      <td>1/5/2022</td>\n",
       "      <td>2/5/2022</td>\n",
       "      <td>-3.0</td>\n",
       "      <td>RT1</td>\n",
       "      <td>direct online</td>\n",
       "      <td>1.0</td>\n",
       "      <td>Checked Out</td>\n",
       "      <td>10010</td>\n",
       "      <td>10010</td>\n",
       "    </tr>\n",
       "    <tr>\n",
       "      <th>1</th>\n",
       "      <td>May012216558RT12</td>\n",
       "      <td>16558</td>\n",
       "      <td>30-04-22</td>\n",
       "      <td>1/5/2022</td>\n",
       "      <td>2/5/2022</td>\n",
       "      <td>2.0</td>\n",
       "      <td>RT1</td>\n",
       "      <td>others</td>\n",
       "      <td>NaN</td>\n",
       "      <td>Cancelled</td>\n",
       "      <td>9100</td>\n",
       "      <td>3640</td>\n",
       "    </tr>\n",
       "    <tr>\n",
       "      <th>2</th>\n",
       "      <td>May012216558RT13</td>\n",
       "      <td>16558</td>\n",
       "      <td>28-04-22</td>\n",
       "      <td>1/5/2022</td>\n",
       "      <td>4/5/2022</td>\n",
       "      <td>2.0</td>\n",
       "      <td>RT1</td>\n",
       "      <td>logtrip</td>\n",
       "      <td>5.0</td>\n",
       "      <td>Checked Out</td>\n",
       "      <td>9100000</td>\n",
       "      <td>9100</td>\n",
       "    </tr>\n",
       "    <tr>\n",
       "      <th>3</th>\n",
       "      <td>May012216558RT14</td>\n",
       "      <td>16558</td>\n",
       "      <td>28-04-22</td>\n",
       "      <td>1/5/2022</td>\n",
       "      <td>2/5/2022</td>\n",
       "      <td>-2.0</td>\n",
       "      <td>RT1</td>\n",
       "      <td>others</td>\n",
       "      <td>NaN</td>\n",
       "      <td>Cancelled</td>\n",
       "      <td>9100</td>\n",
       "      <td>3640</td>\n",
       "    </tr>\n",
       "    <tr>\n",
       "      <th>4</th>\n",
       "      <td>May012216558RT15</td>\n",
       "      <td>16558</td>\n",
       "      <td>27-04-22</td>\n",
       "      <td>1/5/2022</td>\n",
       "      <td>2/5/2022</td>\n",
       "      <td>4.0</td>\n",
       "      <td>RT1</td>\n",
       "      <td>direct online</td>\n",
       "      <td>5.0</td>\n",
       "      <td>Checked Out</td>\n",
       "      <td>10920</td>\n",
       "      <td>10920</td>\n",
       "    </tr>\n",
       "  </tbody>\n",
       "</table>\n",
       "</div>"
      ],
      "text/plain": [
       "         booking_id  property_id booking_date  ... booking_status revenue_generated  revenue_realized\n",
       "0  May012216558RT11        16558     27-04-22  ...    Checked Out             10010             10010\n",
       "1  May012216558RT12        16558     30-04-22  ...      Cancelled              9100              3640\n",
       "2  May012216558RT13        16558     28-04-22  ...    Checked Out           9100000              9100\n",
       "3  May012216558RT14        16558     28-04-22  ...      Cancelled              9100              3640\n",
       "4  May012216558RT15        16558     27-04-22  ...    Checked Out             10920             10920\n",
       "\n",
       "[5 rows x 12 columns]"
      ]
     },
     "execution_count": 67,
     "metadata": {},
     "output_type": "execute_result"
    }
   ],
   "source": [
    "df_bookings.head(5)"
   ]
  },
  {
   "cell_type": "markdown",
   "id": "6284b062-8bce-4ccd-ad06-478cb497d996",
   "metadata": {},
   "source": [
    "In this above table there are some negative value so rather than complainig it to the data engineer we can get rid of it "
   ]
  },
  {
   "cell_type": "code",
   "execution_count": 70,
   "id": "0d7f86be-19c0-41cc-b701-add77ae9d98f",
   "metadata": {},
   "outputs": [
    {
     "data": {
      "text/plain": [
       "(134590, 12)"
      ]
     },
     "execution_count": 70,
     "metadata": {},
     "output_type": "execute_result"
    }
   ],
   "source": [
    "df_bookings.shape"
   ]
  },
  {
   "cell_type": "code",
   "execution_count": 75,
   "id": "3fb2c74d-76e6-48d5-a6e7-ad65f25f21eb",
   "metadata": {},
   "outputs": [
    {
     "data": {
      "text/plain": [
       "(134578, 12)"
      ]
     },
     "execution_count": 75,
     "metadata": {},
     "output_type": "execute_result"
    }
   ],
   "source": [
    "df_bookings = df_bookings[df_bookings['no_guests'] > 0] \n",
    "df_bookings.shape"
   ]
  },
  {
   "cell_type": "markdown",
   "id": "10fccbb3-14bb-4b07-8d60-2291bf05305c",
   "metadata": {},
   "source": [
    "So now the new dataframe after cleansing is replaced with the previous datdframe"
   ]
  },
  {
   "cell_type": "markdown",
   "id": "0a0c7019-c9e1-4ebc-9e5a-4492693de76b",
   "metadata": {},
   "source": [
    "    Exercise 1: In aggregate bookings find columns that have null values. Fill these null values with whatever you think is appropriate substitute"
   ]
  },
  {
   "cell_type": "code",
   "execution_count": 80,
   "id": "1dddb667-4b08-4738-9281-b6042931659e",
   "metadata": {},
   "outputs": [
    {
     "data": {
      "text/plain": [
       "property_id            0\n",
       "check_in_date          0\n",
       "room_category          0\n",
       "successful_bookings    0\n",
       "capacity               2\n",
       "dtype: int64"
      ]
     },
     "execution_count": 80,
     "metadata": {},
     "output_type": "execute_result"
    }
   ],
   "source": [
    "df_agg_bookings.isnull().sum()"
   ]
  },
  {
   "cell_type": "code",
   "execution_count": 81,
   "id": "85193c60-d658-429b-abd0-b62e5b4470d2",
   "metadata": {},
   "outputs": [
    {
     "data": {
      "text/html": [
       "<div>\n",
       "<style scoped>\n",
       "    .dataframe tbody tr th:only-of-type {\n",
       "        vertical-align: middle;\n",
       "    }\n",
       "\n",
       "    .dataframe tbody tr th {\n",
       "        vertical-align: top;\n",
       "    }\n",
       "\n",
       "    .dataframe thead th {\n",
       "        text-align: right;\n",
       "    }\n",
       "</style>\n",
       "<table border=\"1\" class=\"dataframe\">\n",
       "  <thead>\n",
       "    <tr style=\"text-align: right;\">\n",
       "      <th></th>\n",
       "      <th>property_id</th>\n",
       "      <th>check_in_date</th>\n",
       "      <th>room_category</th>\n",
       "      <th>successful_bookings</th>\n",
       "      <th>capacity</th>\n",
       "    </tr>\n",
       "  </thead>\n",
       "  <tbody>\n",
       "    <tr>\n",
       "      <th>8</th>\n",
       "      <td>17561</td>\n",
       "      <td>1-May-22</td>\n",
       "      <td>RT1</td>\n",
       "      <td>22</td>\n",
       "      <td>NaN</td>\n",
       "    </tr>\n",
       "    <tr>\n",
       "      <th>14</th>\n",
       "      <td>17562</td>\n",
       "      <td>1-May-22</td>\n",
       "      <td>RT1</td>\n",
       "      <td>12</td>\n",
       "      <td>NaN</td>\n",
       "    </tr>\n",
       "  </tbody>\n",
       "</table>\n",
       "</div>"
      ],
      "text/plain": [
       "    property_id check_in_date room_category  successful_bookings  capacity\n",
       "8         17561      1-May-22           RT1                   22       NaN\n",
       "14        17562      1-May-22           RT1                   12       NaN"
      ]
     },
     "execution_count": 81,
     "metadata": {},
     "output_type": "execute_result"
    }
   ],
   "source": [
    "df_agg_bookings[df_agg_bookings.capacity.isnull()]"
   ]
  },
  {
   "cell_type": "code",
   "execution_count": 83,
   "id": "d2a65c16-626e-4ebd-b1df-d7ec0bd5b891",
   "metadata": {},
   "outputs": [],
   "source": [
    "df_agg_bookings.capacity.fillna(df_agg_bookings.capacity.median(), inplace = True)"
   ]
  },
  {
   "cell_type": "markdown",
   "id": "27c36bb4-6792-4ec2-a04e-003754c78b8c",
   "metadata": {},
   "source": [
    "    Exercise 2: In aggregate bookings find out records that have successfull_bookings value greater than capacity. Filter those records"
   ]
  },
  {
   "cell_type": "code",
   "execution_count": 9,
   "id": "6f0e660a-68c1-42b3-ab6a-ce793fa73296",
   "metadata": {},
   "outputs": [
    {
     "data": {
      "text/html": [
       "<div>\n",
       "<style scoped>\n",
       "    .dataframe tbody tr th:only-of-type {\n",
       "        vertical-align: middle;\n",
       "    }\n",
       "\n",
       "    .dataframe tbody tr th {\n",
       "        vertical-align: top;\n",
       "    }\n",
       "\n",
       "    .dataframe thead th {\n",
       "        text-align: right;\n",
       "    }\n",
       "</style>\n",
       "<table border=\"1\" class=\"dataframe\">\n",
       "  <thead>\n",
       "    <tr style=\"text-align: right;\">\n",
       "      <th></th>\n",
       "      <th>property_id</th>\n",
       "      <th>check_in_date</th>\n",
       "      <th>room_category</th>\n",
       "      <th>successful_bookings</th>\n",
       "      <th>capacity</th>\n",
       "      <th>ocp_prc</th>\n",
       "    </tr>\n",
       "  </thead>\n",
       "  <tbody>\n",
       "    <tr>\n",
       "      <th>3</th>\n",
       "      <td>17558</td>\n",
       "      <td>1-May-22</td>\n",
       "      <td>RT1</td>\n",
       "      <td>30</td>\n",
       "      <td>19.0</td>\n",
       "      <td>1.578947</td>\n",
       "    </tr>\n",
       "    <tr>\n",
       "      <th>12</th>\n",
       "      <td>16563</td>\n",
       "      <td>1-May-22</td>\n",
       "      <td>RT1</td>\n",
       "      <td>100</td>\n",
       "      <td>41.0</td>\n",
       "      <td>2.439024</td>\n",
       "    </tr>\n",
       "    <tr>\n",
       "      <th>4136</th>\n",
       "      <td>19558</td>\n",
       "      <td>11-Jun-22</td>\n",
       "      <td>RT2</td>\n",
       "      <td>50</td>\n",
       "      <td>39.0</td>\n",
       "      <td>1.282051</td>\n",
       "    </tr>\n",
       "    <tr>\n",
       "      <th>6209</th>\n",
       "      <td>19560</td>\n",
       "      <td>2-Jul-22</td>\n",
       "      <td>RT1</td>\n",
       "      <td>123</td>\n",
       "      <td>26.0</td>\n",
       "      <td>4.730769</td>\n",
       "    </tr>\n",
       "    <tr>\n",
       "      <th>8522</th>\n",
       "      <td>19559</td>\n",
       "      <td>25-Jul-22</td>\n",
       "      <td>RT1</td>\n",
       "      <td>35</td>\n",
       "      <td>24.0</td>\n",
       "      <td>1.458333</td>\n",
       "    </tr>\n",
       "    <tr>\n",
       "      <th>9194</th>\n",
       "      <td>18563</td>\n",
       "      <td>31-Jul-22</td>\n",
       "      <td>RT4</td>\n",
       "      <td>20</td>\n",
       "      <td>18.0</td>\n",
       "      <td>1.111111</td>\n",
       "    </tr>\n",
       "  </tbody>\n",
       "</table>\n",
       "</div>"
      ],
      "text/plain": [
       "      property_id check_in_date room_category  successful_bookings  capacity  \\\n",
       "3           17558      1-May-22           RT1                   30      19.0   \n",
       "12          16563      1-May-22           RT1                  100      41.0   \n",
       "4136        19558     11-Jun-22           RT2                   50      39.0   \n",
       "6209        19560      2-Jul-22           RT1                  123      26.0   \n",
       "8522        19559     25-Jul-22           RT1                   35      24.0   \n",
       "9194        18563     31-Jul-22           RT4                   20      18.0   \n",
       "\n",
       "       ocp_prc  \n",
       "3     1.578947  \n",
       "12    2.439024  \n",
       "4136  1.282051  \n",
       "6209  4.730769  \n",
       "8522  1.458333  \n",
       "9194  1.111111  "
      ]
     },
     "execution_count": 9,
     "metadata": {},
     "output_type": "execute_result"
    }
   ],
   "source": [
    "df_agg_bookings[df_agg_bookings.successful_bookings > df_agg_bookings.capacity]"
   ]
  },
  {
   "cell_type": "markdown",
   "id": "10afe0f1-739b-4b23-b292-5e1327f3dd08",
   "metadata": {
    "jp-MarkdownHeadingCollapsed": true
   },
   "source": [
    "# Data Transformation"
   ]
  },
  {
   "cell_type": "code",
   "execution_count": 11,
   "id": "80b1f382-6412-4b76-9c79-e06aa7315b00",
   "metadata": {},
   "outputs": [],
   "source": [
    "df_agg_bookings['ocp_prc'] = df_agg_bookings['successful_bookings'] / df_agg_bookings['capacity']"
   ]
  },
  {
   "cell_type": "code",
   "execution_count": 12,
   "id": "885066bf-bd26-4b2e-acc7-24d704fe36c7",
   "metadata": {},
   "outputs": [],
   "source": [
    "df_agg_bookings['ocp_prc'] = df_agg_bookings['ocp_prc'].apply(lambda x : round( x * 100, 2))"
   ]
  },
  {
   "cell_type": "code",
   "execution_count": 13,
   "id": "33a931cf-ff16-44f8-b40c-244195e9acdc",
   "metadata": {},
   "outputs": [
    {
     "data": {
      "text/html": [
       "<div>\n",
       "<style scoped>\n",
       "    .dataframe tbody tr th:only-of-type {\n",
       "        vertical-align: middle;\n",
       "    }\n",
       "\n",
       "    .dataframe tbody tr th {\n",
       "        vertical-align: top;\n",
       "    }\n",
       "\n",
       "    .dataframe thead th {\n",
       "        text-align: right;\n",
       "    }\n",
       "</style>\n",
       "<table border=\"1\" class=\"dataframe\">\n",
       "  <thead>\n",
       "    <tr style=\"text-align: right;\">\n",
       "      <th></th>\n",
       "      <th>property_id</th>\n",
       "      <th>check_in_date</th>\n",
       "      <th>room_category</th>\n",
       "      <th>successful_bookings</th>\n",
       "      <th>capacity</th>\n",
       "      <th>ocp_prc</th>\n",
       "    </tr>\n",
       "  </thead>\n",
       "  <tbody>\n",
       "    <tr>\n",
       "      <th>0</th>\n",
       "      <td>16559</td>\n",
       "      <td>1-May-22</td>\n",
       "      <td>RT1</td>\n",
       "      <td>25</td>\n",
       "      <td>30.0</td>\n",
       "      <td>83.33</td>\n",
       "    </tr>\n",
       "    <tr>\n",
       "      <th>1</th>\n",
       "      <td>19562</td>\n",
       "      <td>1-May-22</td>\n",
       "      <td>RT1</td>\n",
       "      <td>28</td>\n",
       "      <td>30.0</td>\n",
       "      <td>93.33</td>\n",
       "    </tr>\n",
       "    <tr>\n",
       "      <th>2</th>\n",
       "      <td>19563</td>\n",
       "      <td>1-May-22</td>\n",
       "      <td>RT1</td>\n",
       "      <td>23</td>\n",
       "      <td>30.0</td>\n",
       "      <td>76.67</td>\n",
       "    </tr>\n",
       "    <tr>\n",
       "      <th>3</th>\n",
       "      <td>17558</td>\n",
       "      <td>1-May-22</td>\n",
       "      <td>RT1</td>\n",
       "      <td>30</td>\n",
       "      <td>19.0</td>\n",
       "      <td>157.89</td>\n",
       "    </tr>\n",
       "    <tr>\n",
       "      <th>4</th>\n",
       "      <td>16558</td>\n",
       "      <td>1-May-22</td>\n",
       "      <td>RT1</td>\n",
       "      <td>18</td>\n",
       "      <td>19.0</td>\n",
       "      <td>94.74</td>\n",
       "    </tr>\n",
       "  </tbody>\n",
       "</table>\n",
       "</div>"
      ],
      "text/plain": [
       "   property_id check_in_date room_category  successful_bookings  capacity  \\\n",
       "0        16559      1-May-22           RT1                   25      30.0   \n",
       "1        19562      1-May-22           RT1                   28      30.0   \n",
       "2        19563      1-May-22           RT1                   23      30.0   \n",
       "3        17558      1-May-22           RT1                   30      19.0   \n",
       "4        16558      1-May-22           RT1                   18      19.0   \n",
       "\n",
       "   ocp_prc  \n",
       "0    83.33  \n",
       "1    93.33  \n",
       "2    76.67  \n",
       "3   157.89  \n",
       "4    94.74  "
      ]
     },
     "execution_count": 13,
     "metadata": {},
     "output_type": "execute_result"
    }
   ],
   "source": [
    "df_agg_bookings.head(5)"
   ]
  },
  {
   "cell_type": "markdown",
   "id": "33ec0935-105e-4372-963c-72d8cd5b38fa",
   "metadata": {},
   "source": [
    "# Insights generation"
   ]
  },
  {
   "cell_type": "markdown",
   "id": "fa59252f-2385-4683-b586-82a2ca4f8571",
   "metadata": {},
   "source": [
    "    1. What is the average occupancy rate for each of the room categories?"
   ]
  },
  {
   "cell_type": "code",
   "execution_count": 14,
   "id": "5b24a64b-6823-442a-ab5c-a88a3ba5de3b",
   "metadata": {},
   "outputs": [
    {
     "data": {
      "text/plain": [
       "room_category\n",
       "RT1    58.22\n",
       "RT2    58.04\n",
       "RT3    58.03\n",
       "RT4    59.30\n",
       "Name: ocp_prc, dtype: float64"
      ]
     },
     "execution_count": 14,
     "metadata": {},
     "output_type": "execute_result"
    }
   ],
   "source": [
    "df_agg_bookings.groupby('room_category')['ocp_prc'].mean().round(2)"
   ]
  },
  {
   "cell_type": "code",
   "execution_count": 15,
   "id": "b06c1343-a113-4500-804d-f050e146f762",
   "metadata": {},
   "outputs": [
    {
     "data": {
      "text/plain": [
       "room_class\n",
       "Elite           58.04\n",
       "Premium         58.03\n",
       "Presidential    59.30\n",
       "Standard        58.22\n",
       "Name: ocp_prc, dtype: float64"
      ]
     },
     "execution_count": 15,
     "metadata": {},
     "output_type": "execute_result"
    }
   ],
   "source": [
    "mrg_bkngs_rooms = pd.merge(df_agg_bookings,df_rooms,left_on='room_category',right_on='room_id')\n",
    "mrg_bkngs_rooms.groupby('room_class')['ocp_prc'].mean().round(2)"
   ]
  },
  {
   "cell_type": "code",
   "execution_count": 16,
   "id": "1ef11acb-fa40-4130-9f98-e9a7e9aa9a4e",
   "metadata": {
    "scrolled": true
   },
   "outputs": [
    {
     "data": {
      "text/html": [
       "<div>\n",
       "<style scoped>\n",
       "    .dataframe tbody tr th:only-of-type {\n",
       "        vertical-align: middle;\n",
       "    }\n",
       "\n",
       "    .dataframe tbody tr th {\n",
       "        vertical-align: top;\n",
       "    }\n",
       "\n",
       "    .dataframe thead th {\n",
       "        text-align: right;\n",
       "    }\n",
       "</style>\n",
       "<table border=\"1\" class=\"dataframe\">\n",
       "  <thead>\n",
       "    <tr style=\"text-align: right;\">\n",
       "      <th></th>\n",
       "      <th>property_id</th>\n",
       "      <th>check_in_date</th>\n",
       "      <th>room_category</th>\n",
       "      <th>successful_bookings</th>\n",
       "      <th>capacity</th>\n",
       "      <th>ocp_prc</th>\n",
       "      <th>room_class</th>\n",
       "    </tr>\n",
       "  </thead>\n",
       "  <tbody>\n",
       "    <tr>\n",
       "      <th>0</th>\n",
       "      <td>16559</td>\n",
       "      <td>1-May-22</td>\n",
       "      <td>RT1</td>\n",
       "      <td>25</td>\n",
       "      <td>30.0</td>\n",
       "      <td>83.33</td>\n",
       "      <td>Standard</td>\n",
       "    </tr>\n",
       "    <tr>\n",
       "      <th>1</th>\n",
       "      <td>19562</td>\n",
       "      <td>1-May-22</td>\n",
       "      <td>RT1</td>\n",
       "      <td>28</td>\n",
       "      <td>30.0</td>\n",
       "      <td>93.33</td>\n",
       "      <td>Standard</td>\n",
       "    </tr>\n",
       "    <tr>\n",
       "      <th>2</th>\n",
       "      <td>19563</td>\n",
       "      <td>1-May-22</td>\n",
       "      <td>RT1</td>\n",
       "      <td>23</td>\n",
       "      <td>30.0</td>\n",
       "      <td>76.67</td>\n",
       "      <td>Standard</td>\n",
       "    </tr>\n",
       "    <tr>\n",
       "      <th>3</th>\n",
       "      <td>17558</td>\n",
       "      <td>1-May-22</td>\n",
       "      <td>RT1</td>\n",
       "      <td>30</td>\n",
       "      <td>19.0</td>\n",
       "      <td>157.89</td>\n",
       "      <td>Standard</td>\n",
       "    </tr>\n",
       "    <tr>\n",
       "      <th>4</th>\n",
       "      <td>16558</td>\n",
       "      <td>1-May-22</td>\n",
       "      <td>RT1</td>\n",
       "      <td>18</td>\n",
       "      <td>19.0</td>\n",
       "      <td>94.74</td>\n",
       "      <td>Standard</td>\n",
       "    </tr>\n",
       "  </tbody>\n",
       "</table>\n",
       "</div>"
      ],
      "text/plain": [
       "   property_id check_in_date room_category  successful_bookings  capacity  \\\n",
       "0        16559      1-May-22           RT1                   25      30.0   \n",
       "1        19562      1-May-22           RT1                   28      30.0   \n",
       "2        19563      1-May-22           RT1                   23      30.0   \n",
       "3        17558      1-May-22           RT1                   30      19.0   \n",
       "4        16558      1-May-22           RT1                   18      19.0   \n",
       "\n",
       "   ocp_prc room_class  \n",
       "0    83.33   Standard  \n",
       "1    93.33   Standard  \n",
       "2    76.67   Standard  \n",
       "3   157.89   Standard  \n",
       "4    94.74   Standard  "
      ]
     },
     "execution_count": 16,
     "metadata": {},
     "output_type": "execute_result"
    }
   ],
   "source": [
    "mrg_bkngs_rooms.drop('room_id',axis = 1, inplace = True)\n",
    "mrg_bkngs_rooms.head(5)"
   ]
  },
  {
   "cell_type": "markdown",
   "id": "57e9da37-2052-4b25-bceb-e9fd2df8a280",
   "metadata": {},
   "source": [
    "    2. Print average occupancy rate per city"
   ]
  },
  {
   "cell_type": "code",
   "execution_count": 17,
   "id": "1413a398-de16-443f-af82-22f1b435e463",
   "metadata": {},
   "outputs": [
    {
     "data": {
      "text/html": [
       "<div>\n",
       "<style scoped>\n",
       "    .dataframe tbody tr th:only-of-type {\n",
       "        vertical-align: middle;\n",
       "    }\n",
       "\n",
       "    .dataframe tbody tr th {\n",
       "        vertical-align: top;\n",
       "    }\n",
       "\n",
       "    .dataframe thead th {\n",
       "        text-align: right;\n",
       "    }\n",
       "</style>\n",
       "<table border=\"1\" class=\"dataframe\">\n",
       "  <thead>\n",
       "    <tr style=\"text-align: right;\">\n",
       "      <th></th>\n",
       "      <th>property_id</th>\n",
       "      <th>property_name</th>\n",
       "      <th>category</th>\n",
       "      <th>city</th>\n",
       "    </tr>\n",
       "  </thead>\n",
       "  <tbody>\n",
       "    <tr>\n",
       "      <th>0</th>\n",
       "      <td>16558</td>\n",
       "      <td>Atliq Grands</td>\n",
       "      <td>Luxury</td>\n",
       "      <td>Delhi</td>\n",
       "    </tr>\n",
       "    <tr>\n",
       "      <th>1</th>\n",
       "      <td>16559</td>\n",
       "      <td>Atliq Exotica</td>\n",
       "      <td>Luxury</td>\n",
       "      <td>Mumbai</td>\n",
       "    </tr>\n",
       "    <tr>\n",
       "      <th>2</th>\n",
       "      <td>16560</td>\n",
       "      <td>Atliq City</td>\n",
       "      <td>Business</td>\n",
       "      <td>Delhi</td>\n",
       "    </tr>\n",
       "    <tr>\n",
       "      <th>3</th>\n",
       "      <td>16561</td>\n",
       "      <td>Atliq Blu</td>\n",
       "      <td>Luxury</td>\n",
       "      <td>Delhi</td>\n",
       "    </tr>\n",
       "    <tr>\n",
       "      <th>4</th>\n",
       "      <td>16562</td>\n",
       "      <td>Atliq Bay</td>\n",
       "      <td>Luxury</td>\n",
       "      <td>Delhi</td>\n",
       "    </tr>\n",
       "  </tbody>\n",
       "</table>\n",
       "</div>"
      ],
      "text/plain": [
       "   property_id  property_name  category    city\n",
       "0        16558   Atliq Grands    Luxury   Delhi\n",
       "1        16559  Atliq Exotica    Luxury  Mumbai\n",
       "2        16560     Atliq City  Business   Delhi\n",
       "3        16561      Atliq Blu    Luxury   Delhi\n",
       "4        16562      Atliq Bay    Luxury   Delhi"
      ]
     },
     "execution_count": 17,
     "metadata": {},
     "output_type": "execute_result"
    }
   ],
   "source": [
    "df_hotels.head(5)"
   ]
  },
  {
   "cell_type": "code",
   "execution_count": 20,
   "id": "892167ec-db84-424c-a0d0-d6954945ccaa",
   "metadata": {},
   "outputs": [
    {
     "data": {
      "text/plain": [
       "<Axes: ylabel='city'>"
      ]
     },
     "execution_count": 20,
     "metadata": {},
     "output_type": "execute_result"
    },
    {
     "data": {
      "image/png": "[encoded data removed]",
      "text/plain": [
       "<Figure size 640x480 with 1 Axes>"
      ]
     },
     "metadata": {},
     "output_type": "display_data"
    }
   ],
   "source": [
    "mrg_bgrm_hotels = pd.merge(mrg_bkngs_rooms, df_hotels,on='property_id')\n",
    "mrg_bgrm_hotels.groupby('city')['ocp_prc'].mean().plot(kind='barh')"
   ]
  },
  {
   "cell_type": "markdown",
   "id": "ef25b276-9b36-4c07-b00d-e497a75726f3",
   "metadata": {},
   "source": [
    "    3. When was the occupancy better"
   ]
  },
  {
   "cell_type": "code",
   "execution_count": 22,
   "id": "94600362-fc80-4475-8fbe-3fdb1d581a7e",
   "metadata": {},
   "outputs": [
    {
     "data": {
      "text/plain": [
       "day_type\n",
       "weekeday    50.90\n",
       "weekend     72.39\n",
       "Name: ocp_prc, dtype: float64"
      ]
     },
     "execution_count": 22,
     "metadata": {},
     "output_type": "execute_result"
    }
   ],
   "source": [
    "df =  pd.merge(mrg_bgrm_hotels, df_date,left_on='check_in_date',right_on='date')\n",
    "df.groupby('day_type')['ocp_prc'].mean().round(2)"
   ]
  },
  {
   "cell_type": "markdown",
   "id": "1329be46-4fb6-4fd4-a1fb-e72ba582c295",
   "metadata": {},
   "source": [
    "    4. In the month of June, what is the occupancy for diffrent cities?"
   ]
  },
  {
   "cell_type": "code",
   "execution_count": 25,
   "id": "97f02607-3070-4143-9157-08b40b7fbde9",
   "metadata": {},
   "outputs": [
    {
     "data": {
      "text/plain": [
       "array(['May 22', 'Jun 22', 'Jul 22'], dtype=object)"
      ]
     },
     "execution_count": 25,
     "metadata": {},
     "output_type": "execute_result"
    }
   ],
   "source": [
    "df['mmm yy'].unique()"
   ]
  },
  {
   "cell_type": "code",
   "execution_count": 34,
   "id": "52cb71fe-1a90-4eb4-9c71-05afd2c181c4",
   "metadata": {},
   "outputs": [
    {
     "data": {
      "text/plain": [
       "city\n",
       "Delhi        62.47\n",
       "Hyderabad    58.46\n",
       "Mumbai       58.38\n",
       "Bangalore    56.58\n",
       "Name: ocp_prc, dtype: float64"
      ]
     },
     "execution_count": 34,
     "metadata": {},
     "output_type": "execute_result"
    }
   ],
   "source": [
    "df_june_22 = df[df['mmm yy'] == 'Jun 22']\n",
    "df_june_22.head(5)\n",
    "df_june_22.groupby('city')['ocp_prc'].mean().round(2).sort_values(ascending=False)"
   ]
  },
  {
   "cell_type": "code",
   "execution_count": 37,
   "id": "bd1c70bc-29f3-467b-a3f5-e45a467125d2",
   "metadata": {},
   "outputs": [
    {
     "data": {
      "text/html": [
       "<div>\n",
       "<style scoped>\n",
       "    .dataframe tbody tr th:only-of-type {\n",
       "        vertical-align: middle;\n",
       "    }\n",
       "\n",
       "    .dataframe tbody tr th {\n",
       "        vertical-align: top;\n",
       "    }\n",
       "\n",
       "    .dataframe thead th {\n",
       "        text-align: right;\n",
       "    }\n",
       "</style>\n",
       "<table border=\"1\" class=\"dataframe\">\n",
       "  <thead>\n",
       "    <tr style=\"text-align: right;\">\n",
       "      <th></th>\n",
       "      <th>property_id</th>\n",
       "      <th>check_in_date</th>\n",
       "      <th>room_category</th>\n",
       "      <th>successful_bookings</th>\n",
       "      <th>capacity</th>\n",
       "      <th>ocp_prc</th>\n",
       "      <th>room_class</th>\n",
       "      <th>property_name</th>\n",
       "      <th>category</th>\n",
       "      <th>city</th>\n",
       "      <th>date</th>\n",
       "      <th>mmm yy</th>\n",
       "      <th>week no</th>\n",
       "      <th>day_type</th>\n",
       "      <th>occ%</th>\n",
       "    </tr>\n",
       "  </thead>\n",
       "  <tbody>\n",
       "    <tr>\n",
       "      <th>6509</th>\n",
       "      <td>19563</td>\n",
       "      <td>01-Aug-22</td>\n",
       "      <td>RT1</td>\n",
       "      <td>23</td>\n",
       "      <td>30.0</td>\n",
       "      <td>NaN</td>\n",
       "      <td>Standard</td>\n",
       "      <td>Atliq Palace</td>\n",
       "      <td>Business</td>\n",
       "      <td>Bangalore</td>\n",
       "      <td>NaN</td>\n",
       "      <td>Aug-22</td>\n",
       "      <td>W 32</td>\n",
       "      <td>weekeday</td>\n",
       "      <td>76.67</td>\n",
       "    </tr>\n",
       "    <tr>\n",
       "      <th>6510</th>\n",
       "      <td>19558</td>\n",
       "      <td>01-Aug-22</td>\n",
       "      <td>RT1</td>\n",
       "      <td>30</td>\n",
       "      <td>40.0</td>\n",
       "      <td>NaN</td>\n",
       "      <td>Standard</td>\n",
       "      <td>Atliq Grands</td>\n",
       "      <td>Luxury</td>\n",
       "      <td>Bangalore</td>\n",
       "      <td>NaN</td>\n",
       "      <td>Aug-22</td>\n",
       "      <td>W 32</td>\n",
       "      <td>weekeday</td>\n",
       "      <td>75.00</td>\n",
       "    </tr>\n",
       "    <tr>\n",
       "      <th>6511</th>\n",
       "      <td>19560</td>\n",
       "      <td>01-Aug-22</td>\n",
       "      <td>RT1</td>\n",
       "      <td>20</td>\n",
       "      <td>26.0</td>\n",
       "      <td>NaN</td>\n",
       "      <td>Standard</td>\n",
       "      <td>Atliq City</td>\n",
       "      <td>Business</td>\n",
       "      <td>Bangalore</td>\n",
       "      <td>NaN</td>\n",
       "      <td>Aug-22</td>\n",
       "      <td>W 32</td>\n",
       "      <td>weekeday</td>\n",
       "      <td>76.92</td>\n",
       "    </tr>\n",
       "    <tr>\n",
       "      <th>6512</th>\n",
       "      <td>17561</td>\n",
       "      <td>01-Aug-22</td>\n",
       "      <td>RT1</td>\n",
       "      <td>18</td>\n",
       "      <td>26.0</td>\n",
       "      <td>NaN</td>\n",
       "      <td>Standard</td>\n",
       "      <td>Atliq Blu</td>\n",
       "      <td>Luxury</td>\n",
       "      <td>Mumbai</td>\n",
       "      <td>NaN</td>\n",
       "      <td>Aug-22</td>\n",
       "      <td>W 32</td>\n",
       "      <td>weekeday</td>\n",
       "      <td>69.23</td>\n",
       "    </tr>\n",
       "    <tr>\n",
       "      <th>6513</th>\n",
       "      <td>17564</td>\n",
       "      <td>01-Aug-22</td>\n",
       "      <td>RT1</td>\n",
       "      <td>10</td>\n",
       "      <td>16.0</td>\n",
       "      <td>NaN</td>\n",
       "      <td>Standard</td>\n",
       "      <td>Atliq Seasons</td>\n",
       "      <td>Business</td>\n",
       "      <td>Mumbai</td>\n",
       "      <td>NaN</td>\n",
       "      <td>Aug-22</td>\n",
       "      <td>W 32</td>\n",
       "      <td>weekeday</td>\n",
       "      <td>62.50</td>\n",
       "    </tr>\n",
       "  </tbody>\n",
       "</table>\n",
       "</div>"
      ],
      "text/plain": [
       "      property_id check_in_date room_category  successful_bookings  capacity  \\\n",
       "6509        19563     01-Aug-22           RT1                   23      30.0   \n",
       "6510        19558     01-Aug-22           RT1                   30      40.0   \n",
       "6511        19560     01-Aug-22           RT1                   20      26.0   \n",
       "6512        17561     01-Aug-22           RT1                   18      26.0   \n",
       "6513        17564     01-Aug-22           RT1                   10      16.0   \n",
       "\n",
       "      ocp_prc room_class  property_name  category       city date  mmm yy  \\\n",
       "6509      NaN   Standard   Atliq Palace  Business  Bangalore  NaN  Aug-22   \n",
       "6510      NaN   Standard   Atliq Grands    Luxury  Bangalore  NaN  Aug-22   \n",
       "6511      NaN   Standard     Atliq City  Business  Bangalore  NaN  Aug-22   \n",
       "6512      NaN   Standard      Atliq Blu    Luxury     Mumbai  NaN  Aug-22   \n",
       "6513      NaN   Standard  Atliq Seasons  Business     Mumbai  NaN  Aug-22   \n",
       "\n",
       "     week no  day_type   occ%  \n",
       "6509    W 32  weekeday  76.67  \n",
       "6510    W 32  weekeday  75.00  \n",
       "6511    W 32  weekeday  76.92  \n",
       "6512    W 32  weekeday  69.23  \n",
       "6513    W 32  weekeday  62.50  "
      ]
     },
     "execution_count": 37,
     "metadata": {},
     "output_type": "execute_result"
    }
   ],
   "source": [
    "df_aug = pd.read_csv('datasets/new_data_august.csv')\n",
    "df = pd.concat([df, df_aug], ignore_index = True, axis = 0)\n",
    "df.tail(5)"
   ]
  },
  {
   "cell_type": "markdown",
   "id": "185aa864-5be4-41f6-a0ca-3000b8dd2b23",
   "metadata": {},
   "source": [
    "    6. Print revenue realized per city "
   ]
  },
  {
   "cell_type": "code",
   "execution_count": 38,
   "id": "dddd26a6-bc6a-4279-bdab-b2feb517f8b3",
   "metadata": {},
   "outputs": [
    {
     "data": {
      "text/html": [
       "<div>\n",
       "<style scoped>\n",
       "    .dataframe tbody tr th:only-of-type {\n",
       "        vertical-align: middle;\n",
       "    }\n",
       "\n",
       "    .dataframe tbody tr th {\n",
       "        vertical-align: top;\n",
       "    }\n",
       "\n",
       "    .dataframe thead th {\n",
       "        text-align: right;\n",
       "    }\n",
       "</style>\n",
       "<table border=\"1\" class=\"dataframe\">\n",
       "  <thead>\n",
       "    <tr style=\"text-align: right;\">\n",
       "      <th></th>\n",
       "      <th>booking_id</th>\n",
       "      <th>property_id</th>\n",
       "      <th>booking_date</th>\n",
       "      <th>check_in_date</th>\n",
       "      <th>checkout_date</th>\n",
       "      <th>no_guests</th>\n",
       "      <th>room_category</th>\n",
       "      <th>booking_platform</th>\n",
       "      <th>ratings_given</th>\n",
       "      <th>booking_status</th>\n",
       "      <th>revenue_generated</th>\n",
       "      <th>revenue_realized</th>\n",
       "    </tr>\n",
       "  </thead>\n",
       "  <tbody>\n",
       "    <tr>\n",
       "      <th>0</th>\n",
       "      <td>May012216558RT11</td>\n",
       "      <td>16558</td>\n",
       "      <td>27-04-22</td>\n",
       "      <td>1/5/2022</td>\n",
       "      <td>2/5/2022</td>\n",
       "      <td>-3.0</td>\n",
       "      <td>RT1</td>\n",
       "      <td>direct online</td>\n",
       "      <td>1.0</td>\n",
       "      <td>Checked Out</td>\n",
       "      <td>10010</td>\n",
       "      <td>10010</td>\n",
       "    </tr>\n",
       "    <tr>\n",
       "      <th>1</th>\n",
       "      <td>May012216558RT12</td>\n",
       "      <td>16558</td>\n",
       "      <td>30-04-22</td>\n",
       "      <td>1/5/2022</td>\n",
       "      <td>2/5/2022</td>\n",
       "      <td>2.0</td>\n",
       "      <td>RT1</td>\n",
       "      <td>others</td>\n",
       "      <td>NaN</td>\n",
       "      <td>Cancelled</td>\n",
       "      <td>9100</td>\n",
       "      <td>3640</td>\n",
       "    </tr>\n",
       "    <tr>\n",
       "      <th>2</th>\n",
       "      <td>May012216558RT13</td>\n",
       "      <td>16558</td>\n",
       "      <td>28-04-22</td>\n",
       "      <td>1/5/2022</td>\n",
       "      <td>4/5/2022</td>\n",
       "      <td>2.0</td>\n",
       "      <td>RT1</td>\n",
       "      <td>logtrip</td>\n",
       "      <td>5.0</td>\n",
       "      <td>Checked Out</td>\n",
       "      <td>9100000</td>\n",
       "      <td>9100</td>\n",
       "    </tr>\n",
       "    <tr>\n",
       "      <th>3</th>\n",
       "      <td>May012216558RT14</td>\n",
       "      <td>16558</td>\n",
       "      <td>28-04-22</td>\n",
       "      <td>1/5/2022</td>\n",
       "      <td>2/5/2022</td>\n",
       "      <td>-2.0</td>\n",
       "      <td>RT1</td>\n",
       "      <td>others</td>\n",
       "      <td>NaN</td>\n",
       "      <td>Cancelled</td>\n",
       "      <td>9100</td>\n",
       "      <td>3640</td>\n",
       "    </tr>\n",
       "    <tr>\n",
       "      <th>4</th>\n",
       "      <td>May012216558RT15</td>\n",
       "      <td>16558</td>\n",
       "      <td>27-04-22</td>\n",
       "      <td>1/5/2022</td>\n",
       "      <td>2/5/2022</td>\n",
       "      <td>4.0</td>\n",
       "      <td>RT1</td>\n",
       "      <td>direct online</td>\n",
       "      <td>5.0</td>\n",
       "      <td>Checked Out</td>\n",
       "      <td>10920</td>\n",
       "      <td>10920</td>\n",
       "    </tr>\n",
       "  </tbody>\n",
       "</table>\n",
       "</div>"
      ],
      "text/plain": [
       "         booking_id  property_id booking_date check_in_date checkout_date  \\\n",
       "0  May012216558RT11        16558     27-04-22      1/5/2022      2/5/2022   \n",
       "1  May012216558RT12        16558     30-04-22      1/5/2022      2/5/2022   \n",
       "2  May012216558RT13        16558     28-04-22      1/5/2022      4/5/2022   \n",
       "3  May012216558RT14        16558     28-04-22      1/5/2022      2/5/2022   \n",
       "4  May012216558RT15        16558     27-04-22      1/5/2022      2/5/2022   \n",
       "\n",
       "   no_guests room_category booking_platform  ratings_given booking_status  \\\n",
       "0       -3.0           RT1    direct online            1.0    Checked Out   \n",
       "1        2.0           RT1           others            NaN      Cancelled   \n",
       "2        2.0           RT1          logtrip            5.0    Checked Out   \n",
       "3       -2.0           RT1           others            NaN      Cancelled   \n",
       "4        4.0           RT1    direct online            5.0    Checked Out   \n",
       "\n",
       "   revenue_generated  revenue_realized  \n",
       "0              10010             10010  \n",
       "1               9100              3640  \n",
       "2            9100000              9100  \n",
       "3               9100              3640  \n",
       "4              10920             10920  "
      ]
     },
     "execution_count": 38,
     "metadata": {},
     "output_type": "execute_result"
    }
   ],
   "source": [
    "df_bookings.head(5)"
   ]
  },
  {
   "cell_type": "code",
   "execution_count": 39,
   "id": "89744cfd-65d8-4cce-8f91-94a13ebe1d49",
   "metadata": {},
   "outputs": [
    {
     "data": {
      "text/html": [
       "<div>\n",
       "<style scoped>\n",
       "    .dataframe tbody tr th:only-of-type {\n",
       "        vertical-align: middle;\n",
       "    }\n",
       "\n",
       "    .dataframe tbody tr th {\n",
       "        vertical-align: top;\n",
       "    }\n",
       "\n",
       "    .dataframe thead th {\n",
       "        text-align: right;\n",
       "    }\n",
       "</style>\n",
       "<table border=\"1\" class=\"dataframe\">\n",
       "  <thead>\n",
       "    <tr style=\"text-align: right;\">\n",
       "      <th></th>\n",
       "      <th>property_id</th>\n",
       "      <th>property_name</th>\n",
       "      <th>category</th>\n",
       "      <th>city</th>\n",
       "    </tr>\n",
       "  </thead>\n",
       "  <tbody>\n",
       "    <tr>\n",
       "      <th>0</th>\n",
       "      <td>16558</td>\n",
       "      <td>Atliq Grands</td>\n",
       "      <td>Luxury</td>\n",
       "      <td>Delhi</td>\n",
       "    </tr>\n",
       "    <tr>\n",
       "      <th>1</th>\n",
       "      <td>16559</td>\n",
       "      <td>Atliq Exotica</td>\n",
       "      <td>Luxury</td>\n",
       "      <td>Mumbai</td>\n",
       "    </tr>\n",
       "    <tr>\n",
       "      <th>2</th>\n",
       "      <td>16560</td>\n",
       "      <td>Atliq City</td>\n",
       "      <td>Business</td>\n",
       "      <td>Delhi</td>\n",
       "    </tr>\n",
       "    <tr>\n",
       "      <th>3</th>\n",
       "      <td>16561</td>\n",
       "      <td>Atliq Blu</td>\n",
       "      <td>Luxury</td>\n",
       "      <td>Delhi</td>\n",
       "    </tr>\n",
       "    <tr>\n",
       "      <th>4</th>\n",
       "      <td>16562</td>\n",
       "      <td>Atliq Bay</td>\n",
       "      <td>Luxury</td>\n",
       "      <td>Delhi</td>\n",
       "    </tr>\n",
       "  </tbody>\n",
       "</table>\n",
       "</div>"
      ],
      "text/plain": [
       "   property_id  property_name  category    city\n",
       "0        16558   Atliq Grands    Luxury   Delhi\n",
       "1        16559  Atliq Exotica    Luxury  Mumbai\n",
       "2        16560     Atliq City  Business   Delhi\n",
       "3        16561      Atliq Blu    Luxury   Delhi\n",
       "4        16562      Atliq Bay    Luxury   Delhi"
      ]
     },
     "execution_count": 39,
     "metadata": {},
     "output_type": "execute_result"
    }
   ],
   "source": [
    "df_hotels.head(5)"
   ]
  },
  {
   "cell_type": "code",
   "execution_count": 43,
   "id": "0d5941c5-1f37-4ad0-ae6f-be71d6c8d94c",
   "metadata": {},
   "outputs": [
    {
     "data": {
      "text/html": [
       "<div>\n",
       "<style scoped>\n",
       "    .dataframe tbody tr th:only-of-type {\n",
       "        vertical-align: middle;\n",
       "    }\n",
       "\n",
       "    .dataframe tbody tr th {\n",
       "        vertical-align: top;\n",
       "    }\n",
       "\n",
       "    .dataframe thead th {\n",
       "        text-align: right;\n",
       "    }\n",
       "</style>\n",
       "<table border=\"1\" class=\"dataframe\">\n",
       "  <thead>\n",
       "    <tr style=\"text-align: right;\">\n",
       "      <th></th>\n",
       "      <th>booking_id</th>\n",
       "      <th>property_id</th>\n",
       "      <th>booking_date</th>\n",
       "      <th>check_in_date</th>\n",
       "      <th>checkout_date</th>\n",
       "      <th>no_guests</th>\n",
       "      <th>room_category</th>\n",
       "      <th>booking_platform</th>\n",
       "      <th>ratings_given</th>\n",
       "      <th>booking_status</th>\n",
       "      <th>revenue_generated</th>\n",
       "      <th>revenue_realized</th>\n",
       "      <th>property_name</th>\n",
       "      <th>category</th>\n",
       "      <th>city</th>\n",
       "    </tr>\n",
       "  </thead>\n",
       "  <tbody>\n",
       "    <tr>\n",
       "      <th>0</th>\n",
       "      <td>May012216558RT11</td>\n",
       "      <td>16558</td>\n",
       "      <td>27-04-22</td>\n",
       "      <td>1/5/2022</td>\n",
       "      <td>2/5/2022</td>\n",
       "      <td>-3.0</td>\n",
       "      <td>RT1</td>\n",
       "      <td>direct online</td>\n",
       "      <td>1.0</td>\n",
       "      <td>Checked Out</td>\n",
       "      <td>10010</td>\n",
       "      <td>10010</td>\n",
       "      <td>Atliq Grands</td>\n",
       "      <td>Luxury</td>\n",
       "      <td>Delhi</td>\n",
       "    </tr>\n",
       "    <tr>\n",
       "      <th>1</th>\n",
       "      <td>May012216558RT12</td>\n",
       "      <td>16558</td>\n",
       "      <td>30-04-22</td>\n",
       "      <td>1/5/2022</td>\n",
       "      <td>2/5/2022</td>\n",
       "      <td>2.0</td>\n",
       "      <td>RT1</td>\n",
       "      <td>others</td>\n",
       "      <td>NaN</td>\n",
       "      <td>Cancelled</td>\n",
       "      <td>9100</td>\n",
       "      <td>3640</td>\n",
       "      <td>Atliq Grands</td>\n",
       "      <td>Luxury</td>\n",
       "      <td>Delhi</td>\n",
       "    </tr>\n",
       "    <tr>\n",
       "      <th>2</th>\n",
       "      <td>May012216558RT13</td>\n",
       "      <td>16558</td>\n",
       "      <td>28-04-22</td>\n",
       "      <td>1/5/2022</td>\n",
       "      <td>4/5/2022</td>\n",
       "      <td>2.0</td>\n",
       "      <td>RT1</td>\n",
       "      <td>logtrip</td>\n",
       "      <td>5.0</td>\n",
       "      <td>Checked Out</td>\n",
       "      <td>9100000</td>\n",
       "      <td>9100</td>\n",
       "      <td>Atliq Grands</td>\n",
       "      <td>Luxury</td>\n",
       "      <td>Delhi</td>\n",
       "    </tr>\n",
       "  </tbody>\n",
       "</table>\n",
       "</div>"
      ],
      "text/plain": [
       "         booking_id  property_id booking_date check_in_date checkout_date  \\\n",
       "0  May012216558RT11        16558     27-04-22      1/5/2022      2/5/2022   \n",
       "1  May012216558RT12        16558     30-04-22      1/5/2022      2/5/2022   \n",
       "2  May012216558RT13        16558     28-04-22      1/5/2022      4/5/2022   \n",
       "\n",
       "   no_guests room_category booking_platform  ratings_given booking_status  \\\n",
       "0       -3.0           RT1    direct online            1.0    Checked Out   \n",
       "1        2.0           RT1           others            NaN      Cancelled   \n",
       "2        2.0           RT1          logtrip            5.0    Checked Out   \n",
       "\n",
       "   revenue_generated  revenue_realized property_name category   city  \n",
       "0              10010             10010  Atliq Grands   Luxury  Delhi  \n",
       "1               9100              3640  Atliq Grands   Luxury  Delhi  \n",
       "2            9100000              9100  Atliq Grands   Luxury  Delhi  "
      ]
     },
     "execution_count": 43,
     "metadata": {},
     "output_type": "execute_result"
    }
   ],
   "source": [
    "df_all_bookings = pd.merge(df_bookings, df_hotels, on = 'property_id')\n",
    "df_all_bookings.head(3)"
   ]
  },
  {
   "cell_type": "code",
   "execution_count": 44,
   "id": "582c6603-a323-4f49-8ca0-43c3cb13c20b",
   "metadata": {},
   "outputs": [
    {
     "data": {
      "text/plain": [
       "city\n",
       "Bangalore    420397050\n",
       "Delhi        294500318\n",
       "Hyderabad    325232870\n",
       "Mumbai       668640991\n",
       "Name: revenue_realized, dtype: int64"
      ]
     },
     "execution_count": 44,
     "metadata": {},
     "output_type": "execute_result"
    }
   ],
   "source": [
    "df_all_bookings.groupby('city')['revenue_realized'].sum()"
   ]
  },
  {
   "cell_type": "markdown",
   "id": "44d35e63-cdd1-4b7b-af16-fc34be013e62",
   "metadata": {},
   "source": [
    "    7. Print month by month revenue"
   ]
  },
  {
   "cell_type": "code",
   "execution_count": 45,
   "id": "98467008-9fe5-40c9-8d04-d349a7cee2ea",
   "metadata": {},
   "outputs": [
    {
     "data": {
      "text/html": [
       "<div>\n",
       "<style scoped>\n",
       "    .dataframe tbody tr th:only-of-type {\n",
       "        vertical-align: middle;\n",
       "    }\n",
       "\n",
       "    .dataframe tbody tr th {\n",
       "        vertical-align: top;\n",
       "    }\n",
       "\n",
       "    .dataframe thead th {\n",
       "        text-align: right;\n",
       "    }\n",
       "</style>\n",
       "<table border=\"1\" class=\"dataframe\">\n",
       "  <thead>\n",
       "    <tr style=\"text-align: right;\">\n",
       "      <th></th>\n",
       "      <th>booking_id</th>\n",
       "      <th>property_id</th>\n",
       "      <th>booking_date</th>\n",
       "      <th>check_in_date</th>\n",
       "      <th>checkout_date</th>\n",
       "      <th>no_guests</th>\n",
       "      <th>room_category</th>\n",
       "      <th>booking_platform</th>\n",
       "      <th>ratings_given</th>\n",
       "      <th>booking_status</th>\n",
       "      <th>revenue_generated</th>\n",
       "      <th>revenue_realized</th>\n",
       "      <th>property_name</th>\n",
       "      <th>category</th>\n",
       "      <th>city</th>\n",
       "      <th>date</th>\n",
       "      <th>mmm yy</th>\n",
       "      <th>week no</th>\n",
       "      <th>day_type</th>\n",
       "    </tr>\n",
       "  </thead>\n",
       "  <tbody>\n",
       "  </tbody>\n",
       "</table>\n",
       "</div>"
      ],
      "text/plain": [
       "Empty DataFrame\n",
       "Columns: [booking_id, property_id, booking_date, check_in_date, checkout_date, no_guests, room_category, booking_platform, ratings_given, booking_status, revenue_generated, revenue_realized, property_name, category, city, date, mmm yy, week no, day_type]\n",
       "Index: []"
      ]
     },
     "execution_count": 45,
     "metadata": {},
     "output_type": "execute_result"
    }
   ],
   "source": [
    "pd.merge(df_all_bookings,df_date, left_on = 'check_in_date', right_on = 'date')"
   ]
  },
  {
   "cell_type": "code",
   "execution_count": null,
   "id": "d7aede71-e619-4682-afb7-daebdf07f475",
   "metadata": {},
   "outputs": [],
   "source": []
  }
 ],
 "metadata": {
  "kernelspec": {
   "display_name": "Python 3 (ipykernel)",
   "language": "python",
   "name": "python3"
  },
  "language_info": {
   "codemirror_mode": {
    "name": "ipython",
    "version": 3
   },
   "file_extension": ".py",
   "mimetype": "text/x-python",
   "name": "python",
   "nbconvert_exporter": "python",
   "pygments_lexer": "ipython3",
   "version": "3.12.0"
  }
 },
 "nbformat": 4,
 "nbformat_minor": 5
}
